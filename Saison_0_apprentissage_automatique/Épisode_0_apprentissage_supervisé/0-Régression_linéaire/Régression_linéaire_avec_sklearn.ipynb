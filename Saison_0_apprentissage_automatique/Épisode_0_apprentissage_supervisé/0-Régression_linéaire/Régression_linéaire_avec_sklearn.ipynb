{
 "cells": [
  {
   "cell_type": "markdown",
   "metadata": {},
   "source": [
    "## Introduction\n",
    "\n",
    "La régression linéaire est l’un des principaux modèles à aborder en Machine Learning. À vrai dire, il n’existe pas qu’un seul type de régression. On distingue la régression de type linéaire mais aussi la régression logistique. Lors de ce tutoriel, nous n’aborderons que la régression linéaire en utilisant la bibliothèque d’apprentissage automatique Scikit-learn."
   ]
  },
  {
   "cell_type": "markdown",
   "metadata": {},
   "source": [
    "### Définition\n",
    "\n",
    "Une régression a pour objectif d’expliquer une variable Y par le moyen d’une autre variable X. Par exemple, le salaire d’une personne peut être expliqué à travers son niveau universitaire ; c’est à dire le nombre d’années passées à l’université.\n",
    "\n",
    "La régression linéaire est alors modélisée par l’équation linéaire suivante qui met en relation $X$ et $Y$ :\n",
    "\n",
    "  $$ Y = \\beta_0 + \\beta_1 X + \\varepsilon$$\n",
    "  \n",
    "  $\\beta_0, \\beta_1$ sont les paramètres du modèle ;\n",
    "  \n",
    "  $X$ est la variable explicative;\n",
    "  \n",
    "  $Y$ est la variable expliquée ;\n",
    "  \n",
    "  $\\varepsilon$ est l’erreur de l’estimation.\n",
    "  \n",
    "  Puisqu’on a une seule variable explicative, alors on est dans le cas de la régression linéaire simple. Par conséquent, la régression linéaire multiple est lorsque vous avez au moins deux variables explicatives."
   ]
  },
  {
   "cell_type": "markdown",
   "metadata": {},
   "source": [
    "\n",
    "Un programme python simple qui implémente la régression linéaire sur un échantillon de données. Le programme utilise sklearn.linear_model de la bibliothèque scikit-learn pour importer la classe LinearRegression. L'objet de la classe est déclaré et est ajusté avec les données `X_Train` et `Y_Train`.\n",
    "`Y_Pred` stocke les valeurs prédites de `X_Test`. Un graphique est tracé à l'aide de matplotlib.pyplot pour représenter visuellement le modèle de régression linéaire.\n"
   ]
  },
  {
   "cell_type": "markdown",
   "metadata": {},
   "source": [
    "Prérequis:\n",
    "\n",
    "- Installation de [Python3](https://www.python.org/downloads/release/python-373/);\n",
    "- Installation de [Pandas](https://pypi.org/project/pandas/);\n",
    "- Installation de [Numpy](https://numpy.org/)\n",
    "- Installation de [scikit-learn](https://scikit-learn.org/stable/);\n",
    "- La bibliothèque [Random](https://docs.python.org/3/library/random.html) fait partie des [bibliothèques standard](https://docs.python.org/3/library/) de python, nous n'avons donc pas besoin de l'installer, elle est déjà disponible pour nous."
   ]
  },
  {
   "cell_type": "markdown",
   "metadata": {},
   "source": [
    "## Un premier exemple d'implementation\n",
    "\n",
    "Nous créerons un ensemble de données d'entraînement composé d'entiers pseudo-aléatoires en entrée en utilisant la bibliothèque Python [Random](https://docs.python.org/3/library/random.html), et nous créerons notre propre fonction pour la sortie de l'ensemble de données d'entraînement en utilisant ces valeurs entières aléatoires en entrée. Ensuite, nous entraînerons notre modèle sur l'ensemble de données nouvellement créé et, enfin, nous testerons notre modèle avec un exemple pour voir comment notre modèle a réussi à prédire/donner la sortie attendue."
   ]
  },
  {
   "cell_type": "code",
   "execution_count": 29,
   "metadata": {},
   "outputs": [
    {
     "name": "stdout",
     "output_type": "stream",
     "text": [
      "[[0.86163819]] [0.64221598]\n"
     ]
    },
    {
     "data": {
      "image/png": "[encoded data removed]",
      "text/plain": [
       "<Figure size 432x288 with 1 Axes>"
      ]
     },
     "metadata": {
      "needs_background": "light"
     },
     "output_type": "display_data"
    }
   ],
   "source": [
    "from sklearn import linear_model\n",
    "\n",
    "import matplotlib.pyplot as plt\n",
    "import numpy as np\n",
    "import random\n",
    "\n",
    "#----------------------------------------------------------------------------------------#\n",
    "# Etape 1: jeux de données de formation\n",
    "\n",
    "X = [i for i in range(10)]\n",
    "Y = [random.gauss(x,0.75) for x in X]\n",
    "\n",
    "X = np.asarray(X)\n",
    "Y = np.asarray(Y)\n",
    "\n",
    "X = X[:,np.newaxis]\n",
    "Y = Y[:,np.newaxis]\n",
    "\n",
    "plt.scatter(X,Y)\n",
    "\n",
    "\n",
    "\n",
    "#----------------------------------------------------------------------------------------#\n",
    "# Etape 2: Instancier modèle d'entraînement \n",
    "\n",
    "model = linear_model.LinearRegression()\n",
    "model.fit(X, Y)\n",
    "\n",
    "print(model.coef_, model.intercept_)\n",
    "\n",
    "\n",
    "\n",
    "#----------------------------------------------------------------------------------------#\n",
    "# Etape 3: Prédiction\n",
    "\n",
    "x_new_min = 0.0\n",
    "x_new_max = 10.0\n",
    "\n",
    "X_NEW = np.linspace(x_new_min, x_new_max, 100)\n",
    "X_NEW = X_NEW[:,np.newaxis]\n",
    "\n",
    "Y_NEW = model.predict(X_NEW)\n",
    "\n",
    "plt.plot(X_NEW, Y_NEW, color='coral', linewidth=3)\n",
    "\n",
    "plt.grid()\n",
    "plt.xlim(x_new_min,x_new_max)\n",
    "plt.ylim(0,10)\n",
    "\n",
    "plt.title(\"Régression linéaire simple avec scikit-learn et python 3\",fontsize=10)\n",
    "plt.xlabel('x')\n",
    "plt.ylabel('y')\n",
    "\n",
    "plt.savefig(\"régression_linéaire simple.png\", bbox_inches='tight')\n",
    "plt.show()"
   ]
  },
  {
   "cell_type": "markdown",
   "metadata": {},
   "source": [
    "## Un second exemple d'implementation"
   ]
  },
  {
   "cell_type": "code",
   "execution_count": 30,
   "metadata": {},
   "outputs": [],
   "source": [
    "#Importation des bibliothèques\n",
    "import numpy as np\n",
    "import matplotlib.pyplot as plt\n",
    "import pandas as pd"
   ]
  },
  {
   "cell_type": "code",
   "execution_count": 31,
   "metadata": {},
   "outputs": [],
   "source": [
    "# Importation des jeux de données\n",
    "#datasets = pd.read_csv('données-salaires.csv')\n",
    "datasets = pd.read_csv('données-salaires.csv')\n",
    "\n",
    "X = datasets.iloc[:, :-1].values\n",
    "Y = datasets.iloc[:, 1].values"
   ]
  },
  {
   "cell_type": "markdown",
   "metadata": {},
   "source": [
    "En général, si vous disposez d'un ensemble de données, vous souhaitez le diviser en `un ensemble de formation`, un `ensemble de validation` et un `ensemble de test`. "
   ]
  },
  {
   "cell_type": "code",
   "execution_count": 32,
   "metadata": {},
   "outputs": [],
   "source": [
    "# Division de l'ensemble de données en un ensemble d'entraînement(ou formation) et un ensemble de test.\n",
    "from sklearn.model_selection import train_test_split\n",
    "X_Train, X_Test, Y_Train, Y_Test = train_test_split(X, Y, test_size = 1/3, random_state = 0)\n"
   ]
  },
  {
   "cell_type": "code",
   "execution_count": 33,
   "metadata": {},
   "outputs": [
    {
     "data": {
      "text/plain": [
       "LinearRegression()"
      ]
     },
     "execution_count": 33,
     "metadata": {},
     "output_type": "execute_result"
    }
   ],
   "source": [
    "# Ajustement de la régression linéaire simple à l'ensemble de formation\n",
    "from sklearn.linear_model import LinearRegression\n",
    "\n",
    "# Instancier modèle\n",
    "regressor = LinearRegression()\n",
    "\n",
    "# Entraînement  du modèle\n",
    "regressor.fit(X_Train, Y_Train)"
   ]
  },
  {
   "cell_type": "code",
   "execution_count": 34,
   "metadata": {},
   "outputs": [
    {
     "name": "stdout",
     "output_type": "stream",
     "text": [
      "[ 40835.10590871 123079.39940819  65134.55626083  63265.36777221\n",
      " 115602.64545369 108125.8914992  116537.23969801  64199.96201652\n",
      "  76349.68719258 100649.1375447 ]\n"
     ]
    }
   ],
   "source": [
    "# Prédire le résultat de l'ensemble de test ￼\n",
    "Y_Pred = regressor.predict(X_Test)\n",
    "print(Y_Pred)"
   ]
  },
  {
   "cell_type": "markdown",
   "metadata": {},
   "source": [
    "### Les attributs du modèle LinearRegression\n",
    "\n",
    "Les attributs du modèle LinearRegression simple sont :\n",
    "\n",
    "`intercept_` : qui permet de calculer le paramètre $\\beta_0$.\n",
    "\n",
    "`coef_` : qui permet de calculer le paramètre $\\beta_1$.\n"
   ]
  },
  {
   "cell_type": "code",
   "execution_count": 35,
   "metadata": {},
   "outputs": [
    {
     "name": "stdout",
     "output_type": "stream",
     "text": [
      "26816.192244031183 [9345.94244312]\n"
     ]
    }
   ],
   "source": [
    "beta_0 = regressor.intercept_\n",
    "beta_1 = regressor.coef_\n",
    "print(beta_0, beta_1)"
   ]
  },
  {
   "cell_type": "markdown",
   "metadata": {},
   "source": [
    "On peut réaliser la même prévision sans avoir à faire appel à la méthode `predict()` et cela en ajoutant à `intercept_` appliquée au modèle la multiplication du `coef_` appliquée au modèle par X_Test. La seule différence entre la prévision ci-dessous et la prévision obtenue à l’aide de la méthode `precidt()` est que dans la première on a obtenu un tableau bidimensionnel et dans la deuxième on a un tableau à une seule dimension "
   ]
  },
  {
   "cell_type": "code",
   "execution_count": 36,
   "metadata": {},
   "outputs": [
    {
     "name": "stdout",
     "output_type": "stream",
     "text": [
      "[[ 40835.10590871]\n",
      " [123079.39940819]\n",
      " [ 65134.55626083]\n",
      " [ 63265.36777221]\n",
      " [115602.64545369]\n",
      " [108125.8914992 ]\n",
      " [116537.23969801]\n",
      " [ 64199.96201652]\n",
      " [ 76349.68719258]\n",
      " [100649.1375447 ]]\n"
     ]
    }
   ],
   "source": [
    "prediction = regressor.intercept_ + regressor.coef_*X_Test\n",
    "print(prediction)"
   ]
  },
  {
   "cell_type": "code",
   "execution_count": 37,
   "metadata": {},
   "outputs": [
    {
     "name": "stdout",
     "output_type": "stream",
     "text": [
      "[[ 40835.10590871]\n",
      " [123079.39940819]\n",
      " [ 65134.55626083]\n",
      " [ 63265.36777221]\n",
      " [115602.64545369]\n",
      " [108125.8914992 ]\n",
      " [116537.23969801]\n",
      " [ 64199.96201652]\n",
      " [ 76349.68719258]\n",
      " [100649.1375447 ]]\n",
      "---------------------------------\n",
      "[ 40835.10590871 123079.39940819  65134.55626083  63265.36777221\n",
      " 115602.64545369 108125.8914992  116537.23969801  64199.96201652\n",
      "  76349.68719258 100649.1375447 ]\n"
     ]
    }
   ],
   "source": [
    "print(prediction)\n",
    "\n",
    "\n",
    "print(\"---------------------------------\")\n",
    "\n",
    "\n",
    "print(Y_Pred)"
   ]
  },
  {
   "cell_type": "markdown",
   "metadata": {},
   "source": [
    "On peut faire un petit test bouléen pour tester la précision de notre prédiction avec l'utilisation des paramètres du modèle."
   ]
  },
  {
   "cell_type": "code",
   "execution_count": 38,
   "metadata": {},
   "outputs": [
    {
     "name": "stdout",
     "output_type": "stream",
     "text": [
      "True\n",
      "True\n",
      "True\n",
      "True\n",
      "True\n",
      "True\n",
      "True\n",
      "True\n",
      "True\n",
      "True\n"
     ]
    }
   ],
   "source": [
    "for i in range(prediction.shape[0]):\n",
    "    print(prediction[i][0] == Y_Pred[i])"
   ]
  },
  {
   "cell_type": "code",
   "execution_count": 39,
   "metadata": {},
   "outputs": [
    {
     "data": {
      "image/png": "[encoded data removed]",
      "text/plain": [
       "<Figure size 432x288 with 1 Axes>"
      ]
     },
     "metadata": {
      "needs_background": "light"
     },
     "output_type": "display_data"
    }
   ],
   "source": [
    "# Visualisation des résultats de l'ensemble d'entraînement\n",
    "plt.scatter(X_Train, Y_Train, color = 'red')\n",
    "plt.plot(X_Train, regressor.predict(X_Train), color = 'blue')\n",
    "plt.title('Salaire vs Experience  (Ensemble de formation)')\n",
    "plt.xlabel(\"Année d'experience\")\n",
    "plt.ylabel('Salaire')\n",
    "plt.show()"
   ]
  },
  {
   "cell_type": "code",
   "execution_count": 40,
   "metadata": {},
   "outputs": [
    {
     "data": {
      "image/png": "[encoded data removed]",
      "text/plain": [
       "<Figure size 432x288 with 1 Axes>"
      ]
     },
     "metadata": {
      "needs_background": "light"
     },
     "output_type": "display_data"
    }
   ],
   "source": [
    "# Visualisation des résultats de l'ensemble des tests\n",
    "plt.scatter(X_Test, Y_Test, color = 'red')\n",
    "plt.plot(X_Train, regressor.predict(X_Train), color = 'blue')\n",
    "plt.title('Salaire vs Experience  (Ensemble de formation)')\n",
    "plt.xlabel(\"Année d'experience\")\n",
    "plt.ylabel('Salaire')\n",
    "plt.show()"
   ]
  },
  {
   "cell_type": "markdown",
   "metadata": {},
   "source": [
    "## Un cas pratique d'application\n",
    "\n",
    "`Supposons que vous soyez le chef de direction d’une franchise de camions ambulants (Food Trucks). Vous envisagez différentes villes pour ouvrir un nouveau point de vente. La chaîne a déjà des camions dans différentes villes et vous avez des données pour les bénéfices et les populations des villes. Vous souhaitez utiliser ces données pour vous aider à choisir la ville pour y ouvrir un nouveau point de vente.`\n",
    "\n",
    "\n",
    "Ce problème est de type apprentissage supervisé modélisable par un algorithme de régression linéaire. Il est de type supervisé car pour chaque ville ayant un certain nombre de population (variable prédictive X), on a le gain effectué dans cette dernière (la variable qu’on cherche à prédire : Y)."
   ]
  },
  {
   "cell_type": "code",
   "execution_count": 41,
   "metadata": {},
   "outputs": [],
   "source": [
    "# chargement de bibliothéques \n",
    "import pandas as pd"
   ]
  },
  {
   "cell_type": "code",
   "execution_count": 42,
   "metadata": {},
   "outputs": [],
   "source": [
    "# chargement du jeu de données\n",
    "df = pd.read_csv(\"ensemble-de-données-de-régression-linéaire.csv\")"
   ]
  },
  {
   "cell_type": "code",
   "execution_count": 43,
   "metadata": {},
   "outputs": [],
   "source": [
    "X = df.iloc[:, :-1].values  #selection de la première colonne de notre dataset\n",
    "Y = df.iloc[:, 1].values   #selection de la première colonne de notre dataset"
   ]
  },
  {
   "cell_type": "code",
   "execution_count": 44,
   "metadata": {},
   "outputs": [
    {
     "data": {
      "image/png": "[encoded data removed]",
      "text/plain": [
       "<Figure size 432x288 with 1 Axes>"
      ]
     },
     "metadata": {
      "needs_background": "light"
     },
     "output_type": "display_data"
    }
   ],
   "source": [
    "### Visualisation du jeu de données\n",
    "\n",
    "axes = plt.axes()\n",
    "axes.grid()\n",
    "plt.scatter(X,Y)\n",
    "plt.show()"
   ]
  },
  {
   "cell_type": "code",
   "execution_count": null,
   "metadata": {},
   "outputs": [],
   "source": []
  },
  {
   "cell_type": "code",
   "execution_count": 45,
   "metadata": {},
   "outputs": [],
   "source": [
    "# Division de l'ensemble de données en un ensemble d'entraînement(ou formation) et un ensemble de test.\n",
    "from sklearn.model_selection import train_test_split\n",
    "X_Train, X_Test, Y_Train, Y_Test = train_test_split(X, Y, test_size = 1/3, random_state = 0)\n",
    "\n",
    "# Ajustement de la régression linéaire simple à l'ensemble de formation\n",
    "from sklearn.linear_model import LinearRegression\n",
    "\n",
    "# Instancier modèle\n",
    "regressor = LinearRegression()\n",
    "\n"
   ]
  },
  {
   "cell_type": "code",
   "execution_count": 46,
   "metadata": {},
   "outputs": [
    {
     "data": {
      "text/plain": [
       "LinearRegression()"
      ]
     },
     "execution_count": 46,
     "metadata": {},
     "output_type": "execute_result"
    }
   ],
   "source": [
    "# Entraînement  du modèle\n",
    "regressor.fit(X_Train, Y_Train)"
   ]
  },
  {
   "cell_type": "code",
   "execution_count": 47,
   "metadata": {},
   "outputs": [
    {
     "name": "stdout",
     "output_type": "stream",
     "text": [
      "[ 8.94195531  6.10107029  4.33817991  3.48933772 19.86861533  3.58423571\n",
      "  2.15715616  2.13107377  3.58796177  8.10242826  3.55757112  2.07483361\n",
      "  3.17728051  2.75169502  3.73618895  3.85635426  3.54976969 18.24312328\n",
      "  5.74464972  2.06924452  5.29472842 13.54247042  3.00681343  3.17239006\n",
      "  2.08740905  2.63630371  6.17198179  2.51439181  2.22504025  4.9615957\n",
      "  2.21444428  2.85474376]\n"
     ]
    }
   ],
   "source": [
    "# Prédire le résultat de l'ensemble de test ￼\n",
    "Y_Pred = regressor.predict(X_Test)\n",
    "print(Y_Pred)"
   ]
  },
  {
   "cell_type": "code",
   "execution_count": 48,
   "metadata": {},
   "outputs": [
    {
     "data": {
      "image/png": "[encoded data removed]",
      "text/plain": [
       "<Figure size 432x288 with 1 Axes>"
      ]
     },
     "metadata": {
      "needs_background": "light"
     },
     "output_type": "display_data"
    }
   ],
   "source": [
    "# Visualisation des résultats de l'ensemble d'entraînement\n",
    "plt.scatter(X_Train, Y_Train, color = 'red')\n",
    "plt.plot(X_Train, regressor.predict(X_Train), color = 'blue')\n",
    "#plt.title('Salaire vs Experience  (Ensemble de formation)')\n",
    "#plt.xlabel(\"Année d'experience\")\n",
    "#plt.ylabel('Salaire')\n",
    "plt.show()"
   ]
  },
  {
   "cell_type": "code",
   "execution_count": 49,
   "metadata": {},
   "outputs": [
    {
     "data": {
      "image/png": "[encoded data removed]",
      "text/plain": [
       "<Figure size 432x288 with 1 Axes>"
      ]
     },
     "metadata": {
      "needs_background": "light"
     },
     "output_type": "display_data"
    }
   ],
   "source": [
    "# Visualisation des résultats de l'ensemble des tests\n",
    "plt.scatter(X_Test, Y_Test, color = 'red')\n",
    "plt.plot(X_Train, regressor.predict(X_Train), color = 'blue')\n",
    "#plt.title('Salaire vs Experience  (Ensemble de formation)')\n",
    "#plt.xlabel(\"Année d'experience\")\n",
    "#plt.ylabel('Salaire')\n",
    "plt.show()"
   ]
  },
  {
   "cell_type": "markdown",
   "metadata": {},
   "source": [
    "## Un aperçu de la régression linéaire multiple \n",
    "\n",
    "Rappelez-vous qu'une fonction généralement appelée \" f \" prend une valeur d'entrée/paramètre généralement appelée \" x \" et produit une valeur de sortie, telle que f(x) = g. La fonction que je vais créer prendra plusieurs paramètres, donc pas seulement \" x \" mais \" x \", \" y \" et \" z \", de sorte que nous obtenions la fonction suivante:\n",
    "\n",
    "`f(x,y,z) = 10x + 2y + 3z = g`\n",
    "\n",
    "\n",
    "Entrée = Caractéristiques\n",
    "Sortie = Cibles"
   ]
  },
  {
   "cell_type": "code",
   "execution_count": 50,
   "metadata": {},
   "outputs": [],
   "source": [
    "#Code pour générer un ensemble de formation :\n",
    "\n",
    "# Importez les bibliothèques\n",
    "import random               # pour generer des entiers pseudo-aléatoires          \n",
    "from sklearn.linear_model import LinearRegression  # pour charger le modele\n",
    "import matplotlib.pyplot as plt             # Pour visualiser\n",
    "\n",
    "\n",
    "# Créer une liste vide pour l'ensemble de données caractéristiques 'X' et l'ensemble de données cibles 'Y'.\n",
    "feature_set = ens_caracteristiques = []\n",
    "target_set= ens_cibles = []\n",
    "\n",
    "\n",
    "# Obtenir le nombre de lignes souhaité pour l'ensemble de données\n",
    "number_of_rows = nombre_de_lignes = 200\n",
    "\n",
    "\n",
    "# Limiter les valeurs possibles dans l'ensemble des données\n",
    "random_number_limit = nombre_limite_aléatoire = 2000\n",
    "\n",
    "# Créer l'ensemble de données de formation\n",
    "# Créer et annexer un ensemble de données générées aléatoirement à l'entrée et à la sortie.\n",
    "for i in range(0,number_of_rows):\n",
    "  x = random.randint(0, random_number_limit)\n",
    "  y = random.randint(0, random_number_limit)\n",
    "  z = random.randint(0, random_number_limit)\n",
    "  \n",
    "  \n",
    "# Créer une fonction linéaire pour l'ensemble de données cible 'Y'.\n",
    "fonction = (10*x) + (2*y) + (3*z)\n",
    "feature_set.append([x,y,z])  # ens_caracteristiques.append([x,y,z])\n",
    "target_set.append(fonction)  # ens_cibles.append(fonction)"
   ]
  },
  {
   "cell_type": "markdown",
   "metadata": {},
   "source": [
    "####  Entraîner notre modèle de régression linéaire\n",
    "\n",
    "Nous utiliserons la méthode LinearRegression() de la bibliothèque Python scikit-learn pour entraîner et créer notre modèle. Ce modèle va essayer de \"modéliser\" la fonction que nous avons créée pour l'ensemble de données d'entraînement.\n",
    "\n",
    "Remarque : lorsque nous \"modélisons\" une fonction, il s'agit simplement d'un autre terme pour désigner l'entraînement.\n",
    "\n",
    "\n"
   ]
  },
  {
   "cell_type": "code",
   "execution_count": 51,
   "metadata": {},
   "outputs": [
    {
     "data": {
      "text/plain": [
       "LinearRegression()"
      ]
     },
     "execution_count": 51,
     "metadata": {},
     "output_type": "execute_result"
    }
   ],
   "source": [
    "model = LinearRegression() # Créer un objet/modèle de régression linéaire\n",
    "\n",
    "model.fit(feature_set, target_set) "
   ]
  },
  {
   "cell_type": "markdown",
   "metadata": {},
   "source": [
    "#### Tester le modèle de régression linéaire"
   ]
  },
  {
   "cell_type": "code",
   "execution_count": 52,
   "metadata": {},
   "outputs": [],
   "source": [
    "ens_test =  [[8, 10, 0]]\n",
    "\n",
    "# Le résultat devrait être 8*10 + 10*2 + 0*3 = 100. Voyons ce que nous avons obtenu...\n"
   ]
  },
  {
   "cell_type": "code",
   "execution_count": 53,
   "metadata": {},
   "outputs": [
    {
     "name": "stdout",
     "output_type": "stream",
     "text": [
      "Prediction:[21418.]\tCoefficient:[0. 0. 0.]\n"
     ]
    }
   ],
   "source": [
    "ens_test  = [[8,10,10]] \n",
    "prediction = model.predict(ens_test)\n",
    "print('Prediction:'+str(prediction)+'\\t'+ 'Coefficient:'+str(model.coef_))"
   ]
  },
  {
   "cell_type": "markdown",
   "metadata": {},
   "source": [
    "Le modèle utilise les données d'apprentissage pour calculer les coefficients, également appelés poids. Il a ensuite utilisé les poids avec les caractéristiques/ données d'entrée pour calculer la sortie correcte. En donnant au modèle des données de test, il a réussi à obtenir la bonne réponse!"
   ]
  }
 ],
 "metadata": {
  "kernelspec": {
   "display_name": "Python 3",
   "language": "python",
   "name": "python3"
  },
  "language_info": {
   "codemirror_mode": {
    "name": "ipython",
    "version": 3
   },
   "file_extension": ".py",
   "mimetype": "text/x-python",
   "name": "python",
   "nbconvert_exporter": "python",
   "pygments_lexer": "ipython3",
   "version": "3.7.3"
  },
  "varInspector": {
   "cols": {
    "lenName": 16,
    "lenType": 16,
    "lenVar": 40
   },
   "kernels_config": {
    "python": {
     "delete_cmd_postfix": "",
     "delete_cmd_prefix": "del ",
     "library": "var_list.py",
     "varRefreshCmd": "print(var_dic_list())"
    },
    "r": {
     "delete_cmd_postfix": ") ",
     "delete_cmd_prefix": "rm(",
     "library": "var_list.r",
     "varRefreshCmd": "cat(var_dic_list()) "
    }
   },
   "types_to_exclude": [
    "module",
    "function",
    "builtin_function_or_method",
    "instance",
    "_Feature"
   ],
   "window_display": false
  }
 },
 "nbformat": 4,
 "nbformat_minor": 2
}
